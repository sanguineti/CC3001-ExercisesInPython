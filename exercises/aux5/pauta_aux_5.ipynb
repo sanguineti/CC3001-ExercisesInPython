{
 "cells": [
  {
   "cell_type": "markdown",
   "metadata": {},
   "source": [
    "Pregunta 1"
   ]
  },
  {
   "cell_type": "markdown",
   "metadata": {},
   "source": [
    "Primero se definen los nodos que utilizaremos en la lista enlazada."
   ]
  },
  {
   "cell_type": "code",
   "execution_count": 7,
   "metadata": {},
   "outputs": [],
   "source": [
    "class NodoLista:\n",
    "    def __init__(self, v, s=None):\n",
    "        self.val = v\n",
    "        self.sig = s\n",
    "\n",
    "    def __repr__(self):\n",
    "        return repr(self.val)\n"
   ]
  },
  {
   "cell_type": "markdown",
   "metadata": {},
   "source": [
    "Ahora definimos la lista con sus funciones:"
   ]
  },
  {
   "cell_type": "code",
   "execution_count": 8,
   "metadata": {},
   "outputs": [],
   "source": [
    "class ListaCircular:\n",
    "    def __init__(self):\n",
    "        self.primero = None\n",
    "        self.size = 0\n",
    "\n",
    "    # Retorna la cantidad de elementos en la lista\n",
    "    def largo(self):\n",
    "        return self.size\n",
    "\n",
    "    # Retorna el i-ésimo elemento de la lista, contando desde 1\n",
    "    def obtener(self, i):\n",
    "        if self.size == 0:\n",
    "            return -1\n",
    "        buscador = self.primero\n",
    "        for x in range(1, i):\n",
    "            buscador = buscador.sig\n",
    "        return buscador.val\n",
    "\n",
    "    # Retorna el índice del elemento si existiese, de lo contario retorna -1\n",
    "    def existe(self, num):\n",
    "        buscador = self.primero\n",
    "        for x in range(self.size):\n",
    "            if int(buscador.val) == num:\n",
    "                return x\n",
    "            buscador = buscador.sig\n",
    "        return -1\n",
    "\n",
    "    # Elimina el i-ésimo elemento y retorna la referencia al siguiente nodo del eliminado\n",
    "    def eliminar(self, i):\n",
    "        if self.size == 0:\n",
    "            return None\n",
    "        # Avanzar hasta quedar en la posición anterior al elemento a eliminar\n",
    "        buscador = self.primero\n",
    "        if (i == 1):  # Primer elemento es un caso especial\n",
    "            # Recorremos hasta el último nodo para que quede en el nodo anterior al primero\n",
    "            for x in range(1, self.size):\n",
    "                buscador = buscador.sig\n",
    "        else:\n",
    "            # Caso general\n",
    "            for x in range(1, i - 1):\n",
    "                buscador = buscador.sig\n",
    "        # Aquí estamos en el nodo anterior al que queremos eliminar, ahora lo eliminamos.\n",
    "        print(\"Eliminado: \", buscador.sig.val)\n",
    "        buscador.sig = buscador.sig.sig  # Cambio la referencia\n",
    "        self.size -= 1\n",
    "        return buscador.sig  # Retornar el siguiente al eliminado\n",
    "\n",
    "    def agregar(self, v):\n",
    "        if self.size == 0:  # No elementos\n",
    "            self.primero = NodoLista(v)\n",
    "            self.primero.sig = self.primero  # Lista Circular\n",
    "            self.size += 1\n",
    "            return\n",
    "        # Si existen elementos\n",
    "        # Como lo inserto al final, apunta al primero\n",
    "        nodo_nuevo = NodoLista(v, self.primero)\n",
    "        ultimo_antiguo = self.primero\n",
    "        for x in range(1, self.size):\n",
    "            ultimo_antiguo = ultimo_antiguo.sig\n",
    "        ultimo_antiguo.sig = nodo_nuevo  # Ahora apunta al nuevo\n",
    "        self.size += 1"
   ]
  },
  {
   "cell_type": "markdown",
   "metadata": {},
   "source": [
    "Ahora probaremos lo que realizamos:"
   ]
  },
  {
   "cell_type": "code",
   "execution_count": 14,
   "metadata": {},
   "outputs": [
    {
     "name": "stdout",
     "output_type": "stream",
     "text": [
      "Eliminado:  9\n"
     ]
    },
    {
     "data": {
      "text/plain": [
       "5"
      ]
     },
     "execution_count": 14,
     "metadata": {},
     "output_type": "execute_result"
    }
   ],
   "source": [
    "a = ListaCircular()\n",
    "a.agregar(5)\n",
    "a.agregar(7)\n",
    "a.agregar(9)\n",
    "a.eliminar(3) # se pone el índice del elemento a eliminar, 3 repesenta al 9"
   ]
  },
  {
   "cell_type": "markdown",
   "metadata": {},
   "source": [
    "Pregunta 2"
   ]
  },
  {
   "cell_type": "markdown",
   "metadata": {},
   "source": [
    "Primero, definiremos la función Josephus"
   ]
  },
  {
   "cell_type": "code",
   "execution_count": 17,
   "metadata": {},
   "outputs": [],
   "source": [
    "def josephus(clista, k):\n",
    "    nodo = clista.primero\n",
    "    while clista.largo() > 1:\n",
    "        # El siguiente al eliminado (recordar que cuenta desde 1)\n",
    "        nodo = clista.eliminar(k+1)\n",
    "        clista.primero = nodo\n",
    "    return nodo.val\n"
   ]
  },
  {
   "cell_type": "markdown",
   "metadata": {},
   "source": [
    "Ahora defeniremos una función con la que generaremos una lista qprobarla con el problema de Josephus"
   ]
  },
  {
   "cell_type": "code",
   "execution_count": 20,
   "metadata": {},
   "outputs": [],
   "source": [
    "def generar_lista(cant):\n",
    "    lista = ListaCircular()\n",
    "    for i in range(1, cant + 1):\n",
    "        lista.agregar(i)\n",
    "    return lista"
   ]
  },
  {
   "cell_type": "markdown",
   "metadata": {},
   "source": [
    "Probaremos la función de Josephus con la función que creamos recién, creando nodos del 1 al 6 y usaremos valores de k desde 1 a 10."
   ]
  },
  {
   "cell_type": "code",
   "execution_count": 22,
   "metadata": {},
   "outputs": [
    {
     "name": "stdout",
     "output_type": "stream",
     "text": [
      "Eliminado:  2\n",
      "Eliminado:  4\n",
      "Eliminado:  6\n",
      "Eliminado:  3\n",
      "Eliminado:  1\n",
      "Último niño en la lista para k =  1 :  5\n",
      "Eliminado:  3\n",
      "Eliminado:  6\n",
      "Eliminado:  4\n",
      "Eliminado:  2\n",
      "Eliminado:  5\n",
      "Último niño en la lista para k =  2 :  1\n",
      "Eliminado:  4\n",
      "Eliminado:  2\n",
      "Eliminado:  1\n",
      "Eliminado:  3\n",
      "Eliminado:  6\n",
      "Último niño en la lista para k =  3 :  5\n",
      "Eliminado:  5\n",
      "Eliminado:  4\n",
      "Eliminado:  6\n",
      "Eliminado:  2\n",
      "Eliminado:  3\n",
      "Último niño en la lista para k =  4 :  1\n",
      "Eliminado:  6\n",
      "Eliminado:  1\n",
      "Eliminado:  3\n",
      "Eliminado:  2\n",
      "Eliminado:  5\n",
      "Último niño en la lista para k =  5 :  4\n",
      "Eliminado:  1\n",
      "Eliminado:  3\n",
      "Eliminado:  6\n",
      "Eliminado:  2\n",
      "Eliminado:  4\n",
      "Último niño en la lista para k =  6 :  5\n",
      "Eliminado:  2\n",
      "Eliminado:  5\n",
      "Eliminado:  4\n",
      "Eliminado:  1\n",
      "Eliminado:  6\n",
      "Último niño en la lista para k =  7 :  3\n",
      "Eliminado:  3\n",
      "Eliminado:  1\n",
      "Eliminado:  2\n",
      "Eliminado:  6\n",
      "Eliminado:  4\n",
      "Último niño en la lista para k =  8 :  5\n",
      "Eliminado:  4\n",
      "Eliminado:  3\n",
      "Eliminado:  6\n",
      "Eliminado:  1\n",
      "Eliminado:  5\n",
      "Último niño en la lista para k =  9 :  2\n",
      "Eliminado:  5\n",
      "Eliminado:  6\n",
      "Eliminado:  3\n",
      "Eliminado:  1\n",
      "Eliminado:  2\n",
      "Último niño en la lista para k =  10 :  4\n"
     ]
    }
   ],
   "source": [
    "lista = ListaCircular()\n",
    "for k in range(1, 11):  # De uno a diez\n",
    "    lista = generar_lista(6)\n",
    "    print(\"Último niño en la lista para k = \", k, \": \", josephus(lista, k))"
   ]
  },
  {
   "cell_type": "markdown",
   "metadata": {},
   "source": [
    "Pregunta 3"
   ]
  },
  {
   "cell_type": "markdown",
   "metadata": {},
   "source": [
    "Definiremos los máximos y mínimos enteros que pueden representarse en el lenguaje para usarlos en la solución."
   ]
  },
  {
   "cell_type": "code",
   "execution_count": 23,
   "metadata": {},
   "outputs": [],
   "source": [
    "import sys\n",
    "\n",
    "MAX_VALUE = sys.maxsize\n",
    "MIN_VALUE = -sys.maxsize - 1"
   ]
  },
  {
   "cell_type": "markdown",
   "metadata": {},
   "source": [
    "Ahora definiremos la clase Arbol Binario, con sus métodos estáticos (para simplificar la implementación. \n",
    "\n",
    "Un método estático es uno que no necesita de una instancia concreta de una clase para poder ser utilizado.\n",
    "\n",
    "Para hacer un método estático en Python, utilizamos el tag @staticmethod y no usamos el self en la definición de los parámetros que recibe.\n",
    "\n",
    "La gracia de hacer una recursión en un árbol binario es invocar al método a la izquierda y a la derecha."
   ]
  },
  {
   "cell_type": "code",
   "execution_count": 25,
   "metadata": {},
   "outputs": [],
   "source": [
    "class ArbolBinario:\n",
    "    def __init__(self, v, izq=None, der=None):\n",
    "        self.val = v\n",
    "        self.izq = izq\n",
    "        self.der = der\n",
    "\n",
    "    @staticmethod\n",
    "    def numero_nodos(arbol):\n",
    "        if arbol == None:\n",
    "            return 0\n",
    "        return 1 + ArbolBinario.numero_nodos(arbol.der) + ArbolBinario.numero_nodos(arbol.izq)\n",
    "\n",
    "    @staticmethod\n",
    "    def maximo(arbol):\n",
    "        if arbol == None:\n",
    "            return MIN_VALUE\n",
    "        return max(arbol.val, max(ArbolBinario.maximo(arbol.izq), ArbolBinario.maximo(arbol.der)))\n",
    "\n",
    "    @staticmethod\n",
    "    def minimo(arbol):\n",
    "        if arbol == None:\n",
    "            return sys.maxsize\n",
    "        return min(arbol.val, min(ArbolBinario.minimo(arbol.izq), ArbolBinario.minimo(arbol.der)))\n",
    "\n",
    "    @staticmethod\n",
    "    def suma(arbol):\n",
    "        if arbol == None:\n",
    "            return 0\n",
    "        return arbol.val + ArbolBinario.suma(arbol.izq) + ArbolBinario.suma(arbol.der)\n",
    "\n",
    "    @staticmethod\n",
    "    def pisos(arbol):\n",
    "        if arbol == None:\n",
    "            return 0\n",
    "        return 1 + max(ArbolBinario.pisos(arbol.izq), ArbolBinario.pisos(arbol.der))\n",
    "\n",
    "    @staticmethod\n",
    "    def es_arbol_binario(arbol, min=MIN_VALUE, max=MAX_VALUE):\n",
    "        if arbol == None:\n",
    "            return True\n",
    "        if arbol.val < min or arbol.val > max:\n",
    "            return False\n",
    "        return ArbolBinario.es_arbol_binario(arbol.izq, min, arbol.val) and ArbolBinario.es_arbol_binario(arbol.der, arbol.val, max)\n"
   ]
  },
  {
   "cell_type": "markdown",
   "metadata": {},
   "source": [
    "Ahora definiremos dos árboles, a mano: uno binario y otro no binario, para probar nuestro código. Están identados para facilitar su lectura, por niveles."
   ]
  },
  {
   "cell_type": "code",
   "execution_count": 26,
   "metadata": {},
   "outputs": [],
   "source": [
    "binario = ArbolBinario(5,\n",
    "                       ArbolBinario(3,\n",
    "                                    ArbolBinario(2),\n",
    "                                    ArbolBinario(4)),\n",
    "                       ArbolBinario(7,\n",
    "                                    ArbolBinario(6),\n",
    "                                    ArbolBinario(8,\n",
    "                                                 None,\n",
    "                                                 ArbolBinario(9))))\n",
    "no_binario = ArbolBinario(5,\n",
    "                          ArbolBinario(3,\n",
    "                                       ArbolBinario(2),\n",
    "                                       ArbolBinario(16)),\n",
    "                          ArbolBinario(8,\n",
    "                                       ArbolBinario(7),\n",
    "                                       ArbolBinario(9)))\n"
   ]
  },
  {
   "cell_type": "markdown",
   "metadata": {},
   "source": [
    "Además, probaremos nuestro código con un árbol binario Nulo (None). A continuación iremos probando si los árboles son binarios o no."
   ]
  },
  {
   "cell_type": "code",
   "execution_count": 27,
   "metadata": {},
   "outputs": [
    {
     "name": "stdout",
     "output_type": "stream",
     "text": [
      "Es binario el arbol binario?  True\n",
      "Es binario el arbol no binario?  False\n",
      "Es binario el arbol nulo?  True\n"
     ]
    }
   ],
   "source": [
    "print(\"Es binario el arbol binario? \", ArbolBinario.es_arbol_binario(binario))\n",
    "print(\"Es binario el arbol no binario? \",\n",
    "      ArbolBinario.es_arbol_binario(no_binario))\n",
    "print(\"Es binario el arbol nulo? \", ArbolBinario.es_arbol_binario(None))\n"
   ]
  },
  {
   "cell_type": "markdown",
   "metadata": {},
   "source": [
    "Ahora contaremos el número de nodos:"
   ]
  },
  {
   "cell_type": "code",
   "execution_count": 28,
   "metadata": {},
   "outputs": [
    {
     "name": "stdout",
     "output_type": "stream",
     "text": [
      "Número de nodos Ejemplo binario:  8\n",
      "Número de nodos Ejemplo no binario:  7\n",
      "Número de nodos Ejemplo nulo:  0\n"
     ]
    }
   ],
   "source": [
    "print(\"Número de nodos Ejemplo binario: \", ArbolBinario.numero_nodos(binario))\n",
    "print(\"Número de nodos Ejemplo no binario: \",\n",
    "      ArbolBinario.numero_nodos(no_binario))\n",
    "print(\"Número de nodos Ejemplo nulo: \", ArbolBinario.numero_nodos(None))\n"
   ]
  },
  {
   "cell_type": "markdown",
   "metadata": {},
   "source": [
    "Contaremos cuáles son los máximos y mínimos nodos de los tres árboles"
   ]
  },
  {
   "cell_type": "code",
   "execution_count": 30,
   "metadata": {},
   "outputs": [
    {
     "name": "stdout",
     "output_type": "stream",
     "text": [
      "Máximo valor del árbol binario:  9\n",
      "Mínimo valor del árbol binario:  2\n",
      "Máximo valor del árbol no binario:  16\n",
      "Mínimo valor del árbol no binario:  2\n",
      "Máximo valor del árbol no binario:  -9223372036854775808\n",
      "Mínimo valor del árbol nulo:  9223372036854775807\n"
     ]
    }
   ],
   "source": [
    "print(\"Máximo valor del árbol binario: \", ArbolBinario.maximo(binario))\n",
    "print(\"Mínimo valor del árbol binario: \", ArbolBinario.minimo(binario))\n",
    "\n",
    "print(\"Máximo valor del árbol no binario: \", ArbolBinario.maximo(no_binario))\n",
    "print(\"Mínimo valor del árbol no binario: \", ArbolBinario.minimo(no_binario))\n",
    "\n",
    "print(\"Máximo valor del árbol no binario: \", ArbolBinario.maximo(None))\n",
    "print(\"Mínimo valor del árbol nulo: \", ArbolBinario.minimo(None))\n"
   ]
  },
  {
   "cell_type": "markdown",
   "metadata": {},
   "source": [
    "Finalmente, imprimimos el número de pisos de cada árbol:"
   ]
  },
  {
   "cell_type": "code",
   "execution_count": 31,
   "metadata": {},
   "outputs": [
    {
     "name": "stdout",
     "output_type": "stream",
     "text": [
      "Número de pisos del árbol binario:  4\n",
      "Número de pisos del árbol no binario:  3\n",
      "Número de pisos del árbol Nulo:  0\n"
     ]
    }
   ],
   "source": [
    "print(\"Número de pisos del árbol binario: \", ArbolBinario.pisos(binario))\n",
    "print(\"Número de pisos del árbol no binario: \", ArbolBinario.pisos(no_binario))\n",
    "print(\"Número de pisos del árbol Nulo: \", ArbolBinario.pisos(None))\n"
   ]
  },
  {
   "cell_type": "code",
   "execution_count": null,
   "metadata": {},
   "outputs": [],
   "source": []
  }
 ],
 "metadata": {
  "kernelspec": {
   "display_name": "Python 3",
   "language": "python",
   "name": "python3"
  },
  "language_info": {
   "codemirror_mode": {
    "name": "ipython",
    "version": 3
   },
   "file_extension": ".py",
   "mimetype": "text/x-python",
   "name": "python",
   "nbconvert_exporter": "python",
   "pygments_lexer": "ipython3",
   "version": "3.7.3"
  }
 },
 "nbformat": 4,
 "nbformat_minor": 2
}
